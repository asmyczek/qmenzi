{
 "cells": [
  {
   "cell_type": "code",
   "execution_count": null,
   "metadata": {},
   "outputs": [],
   "source": [
    "# Load section ids from wikipedia page\n",
    "import qmenzi.content.wikipedia as wiki\n",
    "print(wiki.get_page_section_ids('Dune_(2021_film)'))"
   ]
  },
  {
   "cell_type": "code",
   "execution_count": null,
   "metadata": {},
   "outputs": [],
   "source": [
    "# Load plot for Dune and plot a wordcloud\n",
    "from qmenzi.quizzes.wordcloud import create_wordcloud_for_content\n",
    "content = wiki.get_page_section_by_section_name('Dune_(2021_film)', 'Plot')\n",
    "create_wordcloud_for_content(content).show()"
   ]
  },
  {
   "cell_type": "code",
   "execution_count": null,
   "metadata": {},
   "outputs": [],
   "source": [
    "# Plot a wordcloud for Anjelina Joli\n",
    "content = wiki.get_page_section_by_section_name('Angelina_Jolie', 'Career')\n",
    "create_wordcloud_for_content(content).show()"
   ]
  }
 ],
 "metadata": {
  "kernelspec": {
   "display_name": "Python 3",
   "language": "python",
   "name": "python3"
  },
  "language_info": {
   "codemirror_mode": {
    "name": "ipython",
    "version": 3
   },
   "file_extension": ".py",
   "mimetype": "text/x-python",
   "name": "python",
   "nbconvert_exporter": "python",
   "pygments_lexer": "ipython3",
   "version": "3.12.0"
  }
 },
 "nbformat": 4,
 "nbformat_minor": 2
}
