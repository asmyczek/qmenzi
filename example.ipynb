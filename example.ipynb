{
 "cells": [
  {
   "cell_type": "code",
   "execution_count": null,
   "metadata": {},
   "outputs": [],
   "source": [
    "# Load section ids from wikipedia page\n",
    "import qmenzi.content.wikipedia as wiki\n",
    "print(wiki.get_page_section_ids('Dune_(2021_film)'))"
   ]
  },
  {
   "cell_type": "code",
   "execution_count": null,
   "metadata": {},
   "outputs": [],
   "source": [
    "# Load plot for Dune and plot a wordcloud\n",
    "from qmenzi.quizzes.wordcloud import create_wordcloud_for_content\n",
    "content = wiki.get_page_section_by_section_name('Dune_(2021_film)', 'Plot')\n",
    "create_wordcloud_for_content(content, filter_words=['Paul', 'Arrakis']).show()"
   ]
  },
  {
   "cell_type": "code",
   "execution_count": null,
   "metadata": {},
   "outputs": [],
   "source": [
    "# Plot a wordcloud for Anjelina Joli\n",
    "content = wiki.get_page_section_by_section_name('Angelina_Jolie', 'Career')\n",
    "create_wordcloud_for_content(content, filter_words=['Jolie', 'Angelina', 'Angelina Jolie']).show()"
   ]
  },
  {
   "cell_type": "code",
   "execution_count": 20,
   "metadata": {},
   "outputs": [
    {
     "name": "stderr",
     "output_type": "stream",
     "text": [
      "/Users/cp366219/.pyenv/versions/3.12.0/lib/python3.12/site-packages/urllib3/connectionpool.py:1103: InsecureRequestWarning: Unverified HTTPS request is being made to host 'en.wikipedia.org'. Adding certificate verification is strongly advised. See: https://urllib3.readthedocs.io/en/latest/advanced-usage.html#tls-warnings\n",
      "  warnings.warn(\n"
     ]
    },
    {
     "name": "stdout",
     "output_type": "stream",
     "text": [
      "{'Early_life_and_career': '1', 'Education': '2', 'Family_and_personal_life': '3', 'Religious_views': '4', 'Legal_career': '5', 'Civil_rights_attorney': '6', 'Legislative_career': '7', 'Illinois_Senate_(1997–2004)': '8', '2004_U.S._Senate_campaign': '9', 'U.S._Senate_(2005–2008)': '10', 'Presidential_campaigns': '11', '2008': '12', '2012': '13', 'Presidency_(2009–2017)': '14', 'First_100_days': '15', 'Domestic_policy': '16', 'Racial_issues': '17', 'LGBT_rights': '18', 'Same-sex_marriage': '19', 'Economic_policy': '20', 'Environmental_policy': '21', 'Health_care_reform': '22', 'Foreign_policy': '23', 'War_in_Iraq': '24', 'Afghanistan_and_Pakistan': '25', 'Death_of_Osama_bin_Laden': '26', 'Relations_with_Cuba': '27', 'Israel': '28', 'Libya': '29', 'Syrian_civil_war': '30', 'Iran_nuclear_talks': '31', 'Russia': '32', 'Cultural_and_political_image': '33', 'Job_approval': '34', 'Foreign_perceptions': '35', 'Post-presidency_(2017–present)': '36', 'Legacy_and_recognition': '37', 'Presidential_library': '38', 'Awards_and_honors': '39', 'Bibliography': '49', 'Books': '41', 'Audiobooks': '42', 'Articles': '43', 'See_also': '44', 'Politics': '45', 'Other': '53', 'Lists': '47', 'References': '48', 'Further_reading': '50', 'External_links': '51', 'Official': '52'}\n"
     ]
    },
    {
     "name": "stderr",
     "output_type": "stream",
     "text": [
      "/Users/cp366219/.pyenv/versions/3.12.0/lib/python3.12/site-packages/urllib3/connectionpool.py:1103: InsecureRequestWarning: Unverified HTTPS request is being made to host 'en.wikipedia.org'. Adding certificate verification is strongly advised. See: https://urllib3.readthedocs.io/en/latest/advanced-usage.html#tls-warnings\n",
      "  warnings.warn(\n",
      "INFO:qmenzi-wikipedia:Fetched 51 sections from Barack_Obama.\n",
      "INFO:qmenzi-wikipedia:Career section id is None.\n"
     ]
    },
    {
     "ename": "ContentDoesNotExist",
     "evalue": "Career does not exist in Barack_Obama.",
     "output_type": "error",
     "traceback": [
      "\u001b[0;31m---------------------------------------------------------------------------\u001b[0m",
      "\u001b[0;31mContentDoesNotExist\u001b[0m                       Traceback (most recent call last)",
      "Cell \u001b[0;32mIn[20], line 3\u001b[0m\n\u001b[1;32m      1\u001b[0m \u001b[38;5;66;03m# Plot a wordcloud for Anjelina Joli\u001b[39;00m\n\u001b[1;32m      2\u001b[0m \u001b[38;5;28mprint\u001b[39m(wiki\u001b[38;5;241m.\u001b[39mget_page_section_ids(\u001b[38;5;124m'\u001b[39m\u001b[38;5;124mBarack_Obama\u001b[39m\u001b[38;5;124m'\u001b[39m))\n\u001b[0;32m----> 3\u001b[0m content \u001b[38;5;241m=\u001b[39m \u001b[43mwiki\u001b[49m\u001b[38;5;241;43m.\u001b[39;49m\u001b[43mget_page_section_by_section_name\u001b[49m\u001b[43m(\u001b[49m\u001b[38;5;124;43m'\u001b[39;49m\u001b[38;5;124;43mBarack_Obama\u001b[39;49m\u001b[38;5;124;43m'\u001b[39;49m\u001b[43m,\u001b[49m\u001b[43m \u001b[49m\u001b[38;5;124;43m'\u001b[39;49m\u001b[38;5;124;43mCareer\u001b[39;49m\u001b[38;5;124;43m'\u001b[39;49m\u001b[43m)\u001b[49m\n\u001b[1;32m      4\u001b[0m create_wordcloud_for_content(content, filter_words\u001b[38;5;241m=\u001b[39m[\u001b[38;5;124m'\u001b[39m\u001b[38;5;124mBarack\u001b[39m\u001b[38;5;124m'\u001b[39m, \u001b[38;5;124m'\u001b[39m\u001b[38;5;124mObama\u001b[39m\u001b[38;5;124m'\u001b[39m])\u001b[38;5;241m.\u001b[39mshow()\n",
      "File \u001b[0;32m~/Documents/projects/qmenzi/qmenzi/content/wikipedia.py:56\u001b[0m, in \u001b[0;36mget_page_section_by_section_name\u001b[0;34m(page_name, section_name)\u001b[0m\n\u001b[1;32m     54\u001b[0m     \u001b[38;5;28;01mreturn\u001b[39;00m remove_cite_errors(content)\n\u001b[1;32m     55\u001b[0m \u001b[38;5;28;01melse\u001b[39;00m:\n\u001b[0;32m---> 56\u001b[0m     \u001b[38;5;28;01mraise\u001b[39;00m ContentDoesNotExist(\u001b[38;5;124mf\u001b[39m\u001b[38;5;124m'\u001b[39m\u001b[38;5;132;01m{\u001b[39;00msection_name\u001b[38;5;132;01m}\u001b[39;00m\u001b[38;5;124m does not exist in \u001b[39m\u001b[38;5;132;01m{\u001b[39;00mpage_name\u001b[38;5;132;01m}\u001b[39;00m\u001b[38;5;124m.\u001b[39m\u001b[38;5;124m'\u001b[39m)\n",
      "\u001b[0;31mContentDoesNotExist\u001b[0m: Career does not exist in Barack_Obama."
     ]
    }
   ],
   "source": [
    "# Plot a wordcloud for Anjelina Joli\n",
    "print(wiki.get_page_section_ids('Barack_Obama'))\n",
    "content = wiki.get_page_section_by_section_name('Barack_Obama', 'Politics')\n",
    "create_wordcloud_for_content(content, filter_words=['Barack', 'Obama']).show()\n"
   ]
  },
  {
   "cell_type": "code",
   "execution_count": null,
   "metadata": {},
   "outputs": [],
   "source": [
    "# Plot personal Confluence wordcloud \n",
    "import qmenzi.content.confluence as conf\n",
    "from qmenzi.quizzes.wordcloud import create_wordcloud_for_content\n",
    "content = conf.scrap_content_for_user_id('61d2cb7468926d0068417411')\n",
    "create_wordcloud_for_content(content).show()"
   ]
  }
 ],
 "metadata": {
  "kernelspec": {
   "display_name": "Python 3",
   "language": "python",
   "name": "python3"
  },
  "language_info": {
   "codemirror_mode": {
    "name": "ipython",
    "version": 3
   },
   "file_extension": ".py",
   "mimetype": "text/x-python",
   "name": "python",
   "nbconvert_exporter": "python",
   "pygments_lexer": "ipython3",
   "version": "3.12.0"
  }
 },
 "nbformat": 4,
 "nbformat_minor": 2
}
