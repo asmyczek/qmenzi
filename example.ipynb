{
 "cells": [
  {
   "cell_type": "code",
   "execution_count": null,
   "metadata": {},
   "outputs": [],
   "source": [
    "# Load section ids from wikipedia page\n",
    "import qmenzi.content.wikipedia as wiki\n",
    "print(wiki.get_page_section_ids('Dune_(2021_film)'))"
   ]
  },
  {
   "cell_type": "code",
   "execution_count": null,
   "metadata": {},
   "outputs": [],
   "source": [
    "# Load plot for Dune and plot a wordcloud\n",
    "from qmenzi.quizzes.wordcloud import create_wordcloud_for_content\n",
    "content = wiki.get_page_section_by_section_name('Dune_(2021_film)', 'Plot')\n",
    "create_wordcloud_for_content(content, filter_words=['Paul', 'Arrakis']).show()"
   ]
  },
  {
   "cell_type": "code",
   "execution_count": null,
   "metadata": {},
   "outputs": [],
   "source": [
    "# Get frequencies for content\n",
    "from qmenzi.quizzes.wordcloud import get_frequencies_for_content\n",
    "content = wiki.get_page_section_by_section_name('Dune_(2021_film)', 'Plot')\n",
    "frequencies = get_frequencies_for_content(content, filter_words=['Paul', 'Arrakis'])\n",
    "words = list(frequencies.keys()) \n",
    "for w in words:\n",
    "    print(w)"
   ]
  },
  {
   "cell_type": "code",
   "execution_count": null,
   "metadata": {},
   "outputs": [],
   "source": [
    "# Plot a wordcloud for Anjelina Joli\n",
    "content = wiki.get_page_section_by_section_name('Angelina_Jolie', 'Career')\n",
    "create_wordcloud_for_content(content, filter_words=['Jolie', 'Angelina', 'Angelina Jolie']).show()"
   ]
  },
  {
   "cell_type": "code",
   "execution_count": null,
   "metadata": {},
   "outputs": [],
   "source": [
    "# Plot a wordcloud for Barack Obama\n",
    "print(wiki.get_page_section_ids('Barack_Obama'))\n",
    "content = wiki.get_page_section_by_section_name('Barack_Obama', 'Politics')\n",
    "create_wordcloud_for_content(content, filter_words=['Barack', 'Obama']).show()\n"
   ]
  },
  {
   "cell_type": "code",
   "execution_count": null,
   "metadata": {},
   "outputs": [],
   "source": [
    "# Plot personal Confluence wordcloud \n",
    "import qmenzi.content.confluence as conf\n",
    "from qmenzi.quizzes.wordcloud import create_wordcloud_for_content\n",
    "content = conf.scrap_content_for_user_id('61d2cb7468926d0068417412')\n",
    "create_wordcloud_for_content(content).show()\n"
   ]
  }
 ],
 "metadata": {
  "kernelspec": {
   "display_name": "Python 3",
   "language": "python",
   "name": "python3"
  },
  "language_info": {
   "codemirror_mode": {
    "name": "ipython",
    "version": 3
   },
   "file_extension": ".py",
   "mimetype": "text/x-python",
   "name": "python",
   "nbconvert_exporter": "python",
   "pygments_lexer": "ipython3",
   "version": "3.12.0"
  }
 },
 "nbformat": 4,
 "nbformat_minor": 2
}
