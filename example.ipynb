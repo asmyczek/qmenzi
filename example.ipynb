{
 "cells": [
  {
   "cell_type": "code",
   "execution_count": null,
   "metadata": {},
   "outputs": [],
   "source": [
    "# Load section ids from wikipedia page\n",
    "import qmenzi.content.wikipedia as wiki\n",
    "print(wiki.get_page_section_ids('Dune_(2021_film)'))"
   ]
  },
  {
   "cell_type": "code",
   "execution_count": null,
   "metadata": {},
   "outputs": [],
   "source": [
    "# Load plot for Dune and plot a wordcloud\n",
    "from qmenzi.quizzes.wordcloud import create_wordcloud_for_content\n",
    "content = wiki.get_page_section_by_section_name('Dune_(2021_film)', 'Plot')\n",
    "create_wordcloud_for_content(content, filter_words=['Paul', 'Arrakis']).show()"
   ]
  },
  {
   "cell_type": "code",
   "execution_count": null,
   "metadata": {},
   "outputs": [],
   "source": [
    "# Get frequencies for content\n",
    "from qmenzi.quizzes.wordcloud import get_frequencies_for_content\n",
    "content = wiki.get_page_section_by_section_name('Dune_(2021_film)', 'Plot')\n",
    "frequencies = get_frequencies_for_content(content, filter_words=['Paul', 'Arrakis'], top_n_results=10)\n",
    "for f in frequencies:\n",
    "    print(f)"
   ]
  },
  {
   "cell_type": "code",
   "execution_count": null,
   "metadata": {},
   "outputs": [],
   "source": [
    "# Plot a wordcloud for Anjelina Joli\n",
    "content = wiki.get_page_section_by_section_name('Angelina_Jolie', 'Career')\n",
    "create_wordcloud_for_content(content, filter_words=['Jolie', 'Angelina', 'Angelina Jolie']).show()"
   ]
  },
  {
   "cell_type": "code",
   "execution_count": null,
   "metadata": {},
   "outputs": [],
   "source": [
    "# Plot a wordcloud for Barack Obama\n",
    "print(wiki.get_page_section_ids('Barack_Obama'))\n",
    "content = wiki.get_page_section_by_section_name('Barack_Obama', 'Politics')\n",
    "create_wordcloud_for_content(content, filter_words=['Barack', 'Obama']).show()"
   ]
  },
  {
   "cell_type": "code",
   "execution_count": null,
   "metadata": {},
   "outputs": [],
   "source": [
    "# Plot personal Confluence wordcloud \n",
    "import qmenzi.content.confluence as conf\n",
    "from qmenzi.quizzes.wordcloud import create_wordcloud_for_content\n",
    "content = conf.scrap_content_for_user_id('61d2cb7468926d0068417412')\n",
    "create_wordcloud_for_content(content).show()\n"
   ]
  },
  {
   "cell_type": "code",
   "execution_count": null,
   "metadata": {},
   "outputs": [],
   "source": [
    "# Generate a movie poster based on keywords from a movie plot using ideogram\n",
    "from qmenzi.quizzes.ideogram import generate_image_for_prompt\n",
    "content = wiki.get_page_section_by_section_name('The_Iron_Giant', 'Plot')\n",
    "frequencies = get_frequencies_for_content(content, top_n_results=10)\n",
    "words = ''.join([s[0] + ',' for s in frequencies])\n",
    "print(words)\n",
    "generate_image_for_prompt(f'A poster about {words}')"
   ]
  },
  {
   "cell_type": "code",
   "execution_count": null,
   "metadata": {},
   "outputs": [],
   "source": []
  }
 ],
 "metadata": {
  "kernelspec": {
   "display_name": "Python 3",
   "language": "python",
   "name": "python3"
  },
  "language_info": {
   "codemirror_mode": {
    "name": "ipython",
    "version": 3
   },
   "file_extension": ".py",
   "mimetype": "text/x-python",
   "name": "python",
   "nbconvert_exporter": "python",
   "pygments_lexer": "ipython3",
   "version": "3.12.0"
  }
 },
 "nbformat": 4,
 "nbformat_minor": 2
}
