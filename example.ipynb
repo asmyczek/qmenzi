{
 "cells": [
  {
   "cell_type": "code",
   "execution_count": null,
   "metadata": {},
   "outputs": [],
   "source": [
    "import qmenzi.content.wikipedia as wiki\n",
    "print(wiki.get_page_section_ids('Dune_(2021_film)'))"
   ]
  },
  {
   "cell_type": "code",
   "execution_count": null,
   "metadata": {},
   "outputs": [],
   "source": [
    "from qmenzi.quizzes.wordcloud import create_wordcloud_for_content\n",
    "content = wiki.get_page_section_by_section_name('Dune_(2021_film)', 'Plot')\n",
    "create_wordcloud_for_content(content).show()\n"
   ]
  }
 ],
 "metadata": {
  "kernelspec": {
   "display_name": "Python 3",
   "language": "python",
   "name": "python3"
  },
  "language_info": {
   "codemirror_mode": {
    "name": "ipython",
    "version": 3
   },
   "file_extension": ".py",
   "mimetype": "text/x-python",
   "name": "python",
   "nbconvert_exporter": "python",
   "pygments_lexer": "ipython3",
   "version": "3.12.0"
  }
 },
 "nbformat": 4,
 "nbformat_minor": 2
}
