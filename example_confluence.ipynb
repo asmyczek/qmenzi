{
 "cells": [
  {
   "cell_type": "markdown",
   "metadata": {},
   "source": [
    "## Confluence Scraper\n",
    "\n",
    "Scrape confluence pages for content of a user, run basic NLP processing, use word cloud, and compare users."
   ]
  },
  {
   "cell_type": "code",
   "execution_count": null,
   "metadata": {},
   "outputs": [],
   "source": [
    "USER_1_ID = \"User id from wiki/people/<id> url\"\n",
    "USER_2_ID = \"User id from wiki/people/<id> url\""
   ]
  },
  {
   "cell_type": "code",
   "execution_count": null,
   "metadata": {},
   "outputs": [],
   "source": [
    "# Load user content for min 5000 words and cache it\n",
    "import qmenzi.content.confluence as conf\n",
    "from qmenzi.content.utils import write_content_to_file\n",
    "user_1 = conf.scrap_content_for_user_id(USER_1_ID, min_words=5000)\n",
    "write_content_to_file('user_1', user_1)"
   ]
  },
  {
   "cell_type": "code",
   "execution_count": null,
   "metadata": {},
   "outputs": [],
   "source": [
    "# Load user content from cache file and gnerate tokens\n",
    "from qmenzi.content.utils import read_content_from_file\n",
    "from qmenzi.content.nlp import get_tokens\n",
    "user_1 = read_content_from_file('user_1')\n",
    "tokens = get_tokens(user_1)\n",
    "print(tokens)"
   ]
  },
  {
   "cell_type": "code",
   "execution_count": null,
   "metadata": {},
   "outputs": [],
   "source": [
    "# Run topic modeling on the tokens\n",
    "from qmenzi.content.nlp import get_topics\n",
    "topics = get_topics(tokens)\n",
    "for topic in topics:\n",
    "    print([t[0] for t in topic])"
   ]
  },
  {
   "cell_type": "code",
   "execution_count": null,
   "metadata": {},
   "outputs": [],
   "source": [
    "# Generate word cloud for user 1\n",
    "from qmenzi.quizzes.wordcloud import create_wordcloud_for_content\n",
    "create_wordcloud_for_content(''.join([c + '\\n' for c in user_1])).show()"
   ]
  },
  {
   "cell_type": "code",
   "execution_count": null,
   "metadata": {},
   "outputs": [],
   "source": [
    "# Generate word cloud for user 2\n",
    "import qmenzi.content.confluence as conf\n",
    "user_2 = conf.scrap_content_for_user_id(USER_2_ID, min_words=5000)\n",
    "create_wordcloud_for_content(''.join([c + '\\n' for c in user_2])).show()"
   ]
  },
  {
   "cell_type": "code",
   "execution_count": null,
   "metadata": {},
   "outputs": [],
   "source": [
    "# Run sentiment analysis for user_1\n",
    "from qmenzi.content.nlp import get_sentiment\n",
    "for score in get_sentiment(user_1):\n",
    "    print(score)"
   ]
  },
  {
   "cell_type": "code",
   "execution_count": null,
   "metadata": {},
   "outputs": [],
   "source": [
    "# Compare sentiment analysis with user 2\n",
    "from qmenzi.content.nlp import get_sentiment\n",
    "for score in get_sentiment(user_2):\n",
    "    print(score)"
   ]
  },
  {
   "cell_type": "code",
   "execution_count": null,
   "metadata": {},
   "outputs": [],
   "source": [
    "# Generate poem for a topic using llama 3 model on replicate\n",
    "import replicate\n",
    "from qmenzi.quizzes.replicate import authenticate\n",
    "\n",
    "authenticate()\n",
    "\n",
    "words = ''.join([c[0] + ', ' for c in topics[0]])\n",
    "prompt = f'Write me a poem about system architecture containing words {words}'\n",
    "print(prompt)\n",
    "\n",
    "input = {\n",
    "    \"prompt\": prompt,\n",
    "    \"prompt_template\": \"<|begin_of_text|><|start_header_id|>system<|end_header_id|>\\n\\nYou are a helpful assistant<|eot_id|><|start_header_id|>user<|end_header_id|>\\n\\n{prompt}<|eot_id|><|start_header_id|>assistant<|end_header_id|>\\n\\n\"\n",
    "}\n",
    "\n",
    "output = replicate.run(\n",
    "    \"meta/meta-llama-3-70b-instruct\",\n",
    "    input=input\n",
    ")\n",
    "print(''.join(output))\n"
   ]
  }
 ],
 "metadata": {
  "kernelspec": {
   "display_name": "Python 3",
   "language": "python",
   "name": "python3"
  },
  "language_info": {
   "codemirror_mode": {
    "name": "ipython",
    "version": 3
   },
   "file_extension": ".py",
   "mimetype": "text/x-python",
   "name": "python",
   "nbconvert_exporter": "python",
   "pygments_lexer": "ipython3",
   "version": "3.9.6"
  }
 },
 "nbformat": 4,
 "nbformat_minor": 2
}
