{
 "cells": [
  {
   "cell_type": "markdown",
   "metadata": {},
   "source": [
    "## Wikipedia Scraper\n",
    "Some fun with the wikipedia content"
   ]
  },
  {
   "cell_type": "code",
   "execution_count": null,
   "metadata": {},
   "outputs": [],
   "source": [
    "# Load plot section of the movie The Iron Giant\n",
    "import qmenzi.content.wikipedia as wiki\n",
    "content = wiki.get_page_section_by_section_name('The_Iron_Giant', 'Plot')\n",
    "print(content)"
   ]
  },
  {
   "cell_type": "code",
   "execution_count": null,
   "metadata": {},
   "outputs": [],
   "source": [
    "# Draw a word cloud of the plot\n",
    "from qmenzi.quizzes.wordcloud import create_wordcloud_for_content\n",
    "create_wordcloud_for_content(content).show()"
   ]
  },
  {
   "cell_type": "code",
   "execution_count": null,
   "metadata": {},
   "outputs": [],
   "source": [
    "# Generate prompt from the most frequent workds and use ideogram to generate a move poster\n",
    "from qmenzi.quizzes.wordcloud import get_frequencies_for_content\n",
    "from qmenzi.quizzes.ideogram import generate_image_for_prompt\n",
    "frequencies = get_frequencies_for_content(content, top_n_results=10)\n",
    "print(frequencies)\n",
    "words = ''.join([s[0] + ',' for s in frequencies])\n",
    "generate_image_for_prompt(f'Draw cartoon style move poster for a story about {words}')"
   ]
  },
  {
   "cell_type": "code",
   "execution_count": null,
   "metadata": {},
   "outputs": [],
   "source": [
    "# Quiz: generate a word cloud from a movie plot excluding the apparent keywords, guess the movie from the word cloud\n",
    "content = wiki.get_page_section_by_section_name('Raiders_of_the_Lost_Ark', 'Plot')\n",
    "create_wordcloud_for_content(content, filter_words=['Jones']).show()"
   ]
  }
 ],
 "metadata": {
  "kernelspec": {
   "display_name": "Python 3",
   "language": "python",
   "name": "python3"
  },
  "language_info": {
   "codemirror_mode": {
    "name": "ipython",
    "version": 3
   },
   "file_extension": ".py",
   "mimetype": "text/x-python",
   "name": "python",
   "nbconvert_exporter": "python",
   "pygments_lexer": "ipython3",
   "version": "3.9.6"
  }
 },
 "nbformat": 4,
 "nbformat_minor": 2
}
