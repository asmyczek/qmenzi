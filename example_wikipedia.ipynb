{
 "cells": [
  {
   "cell_type": "markdown",
   "metadata": {},
   "source": [
    "## Wikipedia Scraper\n",
    "Some fun with the wikipedia content"
   ]
  },
  {
   "cell_type": "code",
   "execution_count": null,
   "metadata": {
    "metadata": {}
   },
   "outputs": [],
   "source": [
    "# Load plot section of the movie The Iron Giant\n",
    "import qmenzi.content.wikipedia as wiki\n",
    "content = wiki.get_page_section_by_section_name('The_Iron_Giant', 'Plot')\n",
    "print(content)"
   ]
  },
  {
   "cell_type": "code",
   "execution_count": null,
   "metadata": {},
   "outputs": [],
   "source": [
    "# Draw a word cloud of the plot\n",
    "from qmenzi.quizzes.wordcloud import create_wordcloud_for_content\n",
    "create_wordcloud_for_content(content).show()"
   ]
  },
  {
   "cell_type": "code",
   "execution_count": null,
   "metadata": {},
   "outputs": [],
   "source": [
    "# Quiz: generate a word cloud from a movie plot excluding the apparent keywords, guess the movie from the word cloud\n",
    "jones = wiki.get_page_section_by_section_name('Raiders_of_the_Lost_Ark', 'Plot')\n",
    "create_wordcloud_for_content(jones, filter_words=['Jones']).show()"
   ]
  },
  {
   "cell_type": "code",
   "execution_count": null,
   "metadata": {},
   "outputs": [],
   "source": [
    "# Generate a poam containing most frequent workds\n",
    "from qmenzi.quizzes.replicate import Meta_LLAMA_3\n",
    "from qmenzi.quizzes.wordcloud import get_frequencies_for_content\n",
    "\n",
    "frequencies = get_frequencies_for_content(content, top_n_results=10)\n",
    "words = ''.join([s[0] + ',' for s in frequencies])\n",
    "print(words)\n",
    "\n",
    "model = Meta_LLAMA_3()\n",
    "poem = model.generate(f'Write a short popem about {words}.')\n",
    "print(''.join(poem))"
   ]
  },
  {
   "cell_type": "code",
   "execution_count": null,
   "metadata": {},
   "outputs": [],
   "source": [
    "from qmenzi.quizzes.replicate import StabilityAI_SDXL\n",
    "from IPython.display import display\n",
    "\n",
    "model = StabilityAI_SDXL()\n",
    "url = model.generate(f'Generate a movie poster for movie about {words}')\n",
    "display(model.get_image(url[0]))"
   ]
  }
 ],
 "metadata": {
  "kernelspec": {
   "display_name": "Python 3",
   "language": "python",
   "name": "python3"
  },
  "language_info": {
   "codemirror_mode": {
    "name": "ipython",
    "version": 3
   },
   "file_extension": ".py",
   "mimetype": "text/x-python",
   "name": "python",
   "nbconvert_exporter": "python",
   "pygments_lexer": "ipython3",
   "version": "3.9.6"
  }
 },
 "nbformat": 4,
 "nbformat_minor": 2
}
